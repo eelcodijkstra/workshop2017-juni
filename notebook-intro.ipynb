{
 "cells": [
  {
   "cell_type": "markdown",
   "metadata": {},
   "source": [
    "# Over Jupyter Notebooks\n",
    "\n",
    "In deze inleiding maak je kennis met de manier van werken met een Jupyter Notebook, in combinatie met Python.\n",
    "\n",
    "### Cellen\n",
    "\n",
    "Een notebook bestaat uit *cellen*. Een cel bevat:\n",
    "\n",
    "* tekst (zoals deze cel) of \n",
    "* code (zoals sommige andere cellen). \n",
    "\n",
    "### Selecteren en uitvoeren van een cel\n",
    "\n",
    "* je selecteert een cel door daarop te klikken. Je ziet dan een gekleurde (blauwe of groene) rand rond de cel.\n",
    "    * je kunt naar de volgende cel gaan door middel van de pijltjes (up/down).\n",
    "* Om een geselecteerde cel uit te voeren gebruik je Shift-Return.\n",
    "    * een tekst-cel wordt opgemaakt; \n",
    "    * een code-cel wordt uitgevoerd, en het resultaat wordt eronder getoond.\n",
    "    * bij een code-cel zie je dan een volgnummer (bijvoorbeeld `In[3]` en `Out[3]`) in de linker kantlijn.\n",
    "    \n",
    "#### Opdracht\n",
    "\n",
    "Selecteer verschillende cellen in dit notebook\n",
    "* met de muis\n",
    "* door te navigeren met de pijltjes."
   ]
  },
  {
   "cell_type": "markdown",
   "metadata": {},
   "source": [
    "### Uitvoeren van een cel\n",
    "\n",
    "Om een geselecteerde cel uit te voeren gebruik je Shift-Return.\n",
    "    * een tekst-cel wordt opgemaakt; \n",
    "    * een code-cel wordt uitgevoerd, en het resultaat wordt eronder getoond.\n",
    "    * bij een code-cel zie je dan een volgnummer (bijvoorbeeld `In[3]` en `Out[3]`) in de linker kantlijn.\n",
    "    \n",
    "#### Opdracht\n",
    "\n",
    "Voer de eerste vier cellen van dit notebook uit met behulp van Shift-Return."
   ]
  },
  {
   "cell_type": "code",
   "execution_count": null,
   "metadata": {
    "collapsed": true,
    "scrolled": true
   },
   "outputs": [],
   "source": [
    "2 * \"Hello world... \""
   ]
  },
  {
   "cell_type": "code",
   "execution_count": null,
   "metadata": {
    "collapsed": true
   },
   "outputs": [],
   "source": [
    "x = 3 * 4\n",
    "x * 2"
   ]
  },
  {
   "cell_type": "markdown",
   "metadata": {},
   "source": [
    "### Verandderen van een cel\n",
    "\n",
    "Een cel kun je *veranderen*. \n",
    "\n",
    "* je selecteert eerst de cel.\n",
    "* Om een geselecteerde cel te veranderen selecteer je het tekstvenster (code) of gebruik je dubbelklik: je komt dan in de editor (groene rand).\n",
    "* bij een tekstcel gebruik je de *Markdown*-codes voor de opmaak van de tekst.\n",
    "\n",
    "#### Opdrachten\n",
    "\n",
    "1. verander een code-cel\n",
    "    * selecteer en verander de code in de cel met `\"Hello World\"`.\n",
    "    * voer die cel uit.\n",
    "2.  verander een tekst-cel\n",
    "    * selecteer **deze cel**; door dubbelklik (met de muis) kom je in de editor.\n",
    "    * verbeter de tikfout in de titel van deze cel.\n",
    "    * voer deze cel uit."
   ]
  },
  {
   "cell_type": "markdown",
   "metadata": {},
   "source": [
    "### Veranderen van het type van een cel (Code <-> Markdown)\n",
    "\n",
    "* selecteer de cel;\n",
    "* in het *toolbar* selecteer je het gewenste type (*Code* voor Python of *Markdown* voor tekst).\n",
    "\n",
    "#### Opdracht\n",
    "\n",
    "* verander het type van de cel hieronder in \"Code\";\n",
    "* voer deze cel uit"
   ]
  },
  {
   "cell_type": "markdown",
   "metadata": {},
   "source": [
    "print(\"Hello World\")\n",
    "x"
   ]
  },
  {
   "cell_type": "markdown",
   "metadata": {},
   "source": [
    "### Verplaatsen van een cel\n",
    "\n",
    "Je verplaatst een cel door deze te selecteren, en vervolgens de pijlen in de toolbar bovenin te gebruiken.\n",
    "\n",
    "**Opdracht:** verplaats deze cel twee posities naar boven."
   ]
  },
  {
   "cell_type": "markdown",
   "metadata": {},
   "source": [
    "### Toevoegen van een cel\n",
    "\n",
    "Het menu bovenin bevat de opdracht *Insert* om een cel onder of boven de huidige geselecteerde cel toe te voegen. Afkorting: ESC-b (below) of ESC-a (above).\n",
    "\n",
    "**Opdracht:**: voeg een code-cel toe onder deze cel, tik daarin de onderstaande code, en voer die uit.\n",
    "\n",
    "```python\n",
    "print(\"Hello World\")\n",
    "print(x)\n",
    "x * 12\n",
    "```"
   ]
  },
  {
   "cell_type": "markdown",
   "metadata": {},
   "source": [
    "## Herstarten van de Kernel (en van het notebook)\n",
    "\n",
    "Zo nu en dan kan het nodig zijn om het notebook op te schonen: alle eerdere resultaten verwijderen en opnieuw beginnen met uitvoeren van af de eerste cel. Hiervoor gebruik je het Kernel-menu.\n",
    "\n",
    "* \"Restart and Clear Output\", of\n",
    "* \"Restart and Run All\""
   ]
  },
  {
   "cell_type": "markdown",
   "metadata": {},
   "source": [
    "## Python - the hard way\n",
    "\n",
    "De opdrachten in de andere notebooks bestaan vaak uit code die je moet overtikken in de code-cel eronder. Doe dit \"the hard way\": gebruik geen copy-paste. Je moet dan beter lezen, en soms maak je een tikfout waarvan je het nodige kunt leren.\n",
    "\n",
    "**Opdracht**: tik onderstaande code over in de cel hieronder, en voer deze vervolgens uit.\n",
    "\n",
    "```python\n",
    "print(\"Hello World\")\n",
    "print(x)\n",
    "x * 12\n",
    "```"
   ]
  },
  {
   "cell_type": "code",
   "execution_count": null,
   "metadata": {
    "collapsed": true
   },
   "outputs": [],
   "source": []
  },
  {
   "cell_type": "markdown",
   "metadata": {},
   "source": [
    "### Tips & tricks\n",
    "\n",
    "* commando-palet: cmd-shift-P\n",
    "* voorbeeld: veranderen van cell-type in Markdown: ESC-m-Enter\n",
    "* https://www.dataquest.io/blog/jupyter-notebook-tips-tricks-shortcuts/\n",
    "* ...Markdown cheat sheet...\n",
    "* ...Python cheat sheet...\n",
    "* ...Shell cheat sheet..."
   ]
  },
  {
   "cell_type": "markdown",
   "metadata": {},
   "source": [
    "## Overige\n",
    "\n",
    "* gebruik van shell-opdrachten (bijv. `ls -l`)\n",
    "* gebruik van magic-commando's (`%` en `%%`)\n",
    "    * uitvoeren van code in een ander notebook\n",
    "    * inline grafieken\n",
    "    * html, javascript, enz."
   ]
  },
  {
   "cell_type": "code",
   "execution_count": null,
   "metadata": {
    "collapsed": true
   },
   "outputs": [],
   "source": [
    "!ls -l"
   ]
  },
  {
   "cell_type": "code",
   "execution_count": null,
   "metadata": {
    "collapsed": true
   },
   "outputs": [],
   "source": [
    "%%html\n",
    "\n",
    "<h1 id=\"mytitle\">This is a title</h1>\n",
    "<p>Hello World!</p>"
   ]
  },
  {
   "cell_type": "code",
   "execution_count": null,
   "metadata": {
    "collapsed": true
   },
   "outputs": [],
   "source": [
    "%%javascript\n",
    "\n",
    "var mytitle = document.getElementById(\"mytitle\");\n",
    "mytitle.innerHTML = \"Another title\";"
   ]
  },
  {
   "cell_type": "code",
   "execution_count": null,
   "metadata": {
    "collapsed": true
   },
   "outputs": [],
   "source": []
  }
 ],
 "metadata": {
  "kernelspec": {
   "display_name": "Python [conda root]",
   "language": "python",
   "name": "conda-root-py"
  },
  "language_info": {
   "codemirror_mode": {
    "name": "ipython",
    "version": 3
   },
   "file_extension": ".py",
   "mimetype": "text/x-python",
   "name": "python",
   "nbconvert_exporter": "python",
   "pygments_lexer": "ipython3",
   "version": "3.5.2"
  }
 },
 "nbformat": 4,
 "nbformat_minor": 2
}
