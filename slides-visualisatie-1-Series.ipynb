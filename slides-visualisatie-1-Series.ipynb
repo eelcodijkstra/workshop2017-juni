{
 "cells": [
  {
   "cell_type": "markdown",
   "metadata": {
    "slideshow": {
     "slide_type": "slide"
    }
   },
   "source": [
    "# Visualisatie: Series\n",
    "\n",
    "In dit notebook introduceren we de pandas Series. We maken hiermee enkele basisgrafieken.\n",
    "\n",
    "We beginnen met het importeren van de nodige modules: pandas, matplotlib en numpy"
   ]
  },
  {
   "cell_type": "code",
   "execution_count": null,
   "metadata": {
    "collapsed": true,
    "slideshow": {
     "slide_type": "slide"
    }
   },
   "outputs": [],
   "source": [
    "import pandas as pd\n",
    "import numpy as np\n",
    "\n",
    "import matplotlib.pyplot as plt\n",
    "\n",
    "%matplotlib inline    \n",
    "## pd.options.display.mpl_style = 'default'"
   ]
  },
  {
   "cell_type": "markdown",
   "metadata": {
    "slideshow": {
     "slide_type": "slide"
    }
   },
   "source": [
    "## Inlezen van een Series\n",
    "\n",
    "Voor het inlezen van een Series gebruiken we de functie `pd.Series.from_csv`. (Zie: https://pandas.pydata.org/pandas-docs/stable/generated/pandas.Series.from_csv.html)\n",
    "De eerste rij (rangnummer 0) van het bestand bevat de header, met de namen van de kolommen.\n",
    "\n",
    "* je kunt het bestand bekijken met \n",
    "    * `!cat prov-2015.csv`\n",
    "* voor het inlezen gebruik je: \n",
    "    * `prov_2015 = pd.Series.from_csv(\"prov-2015.csv\", header=0)`\n",
    "* daarna kun je het resultaat bekijken met\n",
    "    * `prov_2015       `  *of*\n",
    "    * `print(prov_2015)`"
   ]
  },
  {
   "cell_type": "code",
   "execution_count": null,
   "metadata": {
    "slideshow": {
     "slide_type": "slide"
    }
   },
   "outputs": [],
   "source": [
    "prov_2015 = pd.Series.from_csv(\"prov-2015.csv\", header=0)\n",
    "prov_2015"
   ]
  },
  {
   "cell_type": "markdown",
   "metadata": {
    "slideshow": {
     "slide_type": "slide"
    }
   },
   "source": [
    "## Index en waarden\n",
    "\n",
    "Een Series bestaat uit twee parallelle kolommen: de *index* en de *values*.\n",
    "\n",
    "* de index vraag je op met `prov_2015.index`\n",
    "* de waarden vraag je op met `prov_2015.values`"
   ]
  },
  {
   "cell_type": "code",
   "execution_count": null,
   "metadata": {
    "slideshow": {
     "slide_type": "fragment"
    }
   },
   "outputs": [],
   "source": [
    "prov_2015.index"
   ]
  },
  {
   "cell_type": "code",
   "execution_count": null,
   "metadata": {},
   "outputs": [],
   "source": [
    "prov_2015.values"
   ]
  },
  {
   "cell_type": "markdown",
   "metadata": {
    "slideshow": {
     "slide_type": "slide"
    }
   },
   "source": [
    "Je kunt een bepaalde rij (waarde) selecteren met behulp van een index-waarde. Als de index een string (naam) is, kan dit op meerdere manieren:\n",
    "\n",
    "* `prov_2015[\"Drenthe\"]`\n",
    "* `prov_2015.Limburg`\n"
   ]
  },
  {
   "cell_type": "code",
   "execution_count": null,
   "metadata": {
    "collapsed": true
   },
   "outputs": [],
   "source": []
  },
  {
   "cell_type": "code",
   "execution_count": null,
   "metadata": {
    "collapsed": true
   },
   "outputs": [],
   "source": []
  },
  {
   "cell_type": "markdown",
   "metadata": {
    "slideshow": {
     "slide_type": "slide"
    }
   },
   "source": [
    "## Samenvatten (aggregatie)\n",
    "\n",
    "Op Series zijn allerlei operaties mogelijk. Je kunt de waarden samenvatten (aggregatie), bijvoorbeeld door deze op te tellen (`sum()`; het gemiddelde te berekenen (`mean()`; te tellen `count()`; enz.\n",
    "\n",
    "Zie: https://pandas.pydata.org/pandas-docs/stable/api.html#computations-descriptive-stats\n",
    "\n",
    "* `prov_2015.sum()`"
   ]
  },
  {
   "cell_type": "code",
   "execution_count": null,
   "metadata": {},
   "outputs": [],
   "source": [
    "prov_2015.sum()"
   ]
  },
  {
   "cell_type": "markdown",
   "metadata": {
    "slideshow": {
     "slide_type": "slide"
    }
   },
   "source": [
    "## Plotten: bar chart\n",
    "\n",
    "We maken een aantal basisgrafieken met deze data.\n",
    "\n",
    "De eenvoudigste grafiek is de *bar chart*.\n",
    "\n",
    "* `prov_2015.plot.bar()`"
   ]
  },
  {
   "cell_type": "code",
   "execution_count": null,
   "metadata": {},
   "outputs": [],
   "source": [
    "prov_2015.plot.bar()"
   ]
  },
  {
   "cell_type": "markdown",
   "metadata": {
    "slideshow": {
     "slide_type": "slide"
    }
   },
   "source": [
    "Voor meer informatie over plot van Series:\n",
    "\n",
    "* https://pandas.pydata.org/pandas-docs/stable/generated/pandas.Series.plot.bar.html\n",
    "* https://pandas.pydata.org/pandas-docs/stable/generated/pandas.Series.plot.html#pandas.Series.plot"
   ]
  },
  {
   "cell_type": "markdown",
   "metadata": {
    "slideshow": {
     "slide_type": "slide"
    }
   },
   "source": [
    "### Sorteren\n",
    "\n",
    "We willen de provincies weergeven in volgorde van afnemende aantallen examens. NB: `sort_values` verandert zo niets aan de inhoud of volgorde van `prov_2015`.\n",
    "\n",
    "* `prov_2015.sort_values(ascending=False).plot.bar()`"
   ]
  },
  {
   "cell_type": "code",
   "execution_count": null,
   "metadata": {
    "slideshow": {
     "slide_type": "-"
    }
   },
   "outputs": [],
   "source": [
    "prov_2015.sort_values(ascending=False).plot.bar()"
   ]
  },
  {
   "cell_type": "markdown",
   "metadata": {
    "slideshow": {
     "slide_type": "slide"
    }
   },
   "source": [
    "## Plot: pie chart\n",
    "\n",
    "Op eenzelfde manier kun je eenvoudig een pie chart (taartdiagram) tekenen. Ook hier kan sorteren zinvol zijn.\n",
    "\n",
    "* `prov_2015.plot.pie()`\n",
    "* `prov_2015.sort_values(ascending=False).plot.pie()`"
   ]
  },
  {
   "cell_type": "code",
   "execution_count": null,
   "metadata": {},
   "outputs": [],
   "source": [
    "prov_2015.sort_values(ascending=False).plot.pie()"
   ]
  },
  {
   "cell_type": "markdown",
   "metadata": {
    "slideshow": {
     "slide_type": "slide"
    }
   },
   "source": [
    "## Plot: lijngrafiek\n",
    "\n",
    "Voor de lijngrafiek gebruiken we bij voorkeur kwantitatieve data: waarden op de x-as die je in getallen kunt uitdrukken.\n",
    "\n",
    "> Je kunt van de `prov_2015`-data ook een lijngrafiek tekenen -probeer maar eens-. Maar dat heeft niet zoveel zin: je kunt bijvoorbeeld niet spreken van een \"stijging tussen Zeeland en Zuid-Holland\".\n",
    "\n",
    "We gebruiken een eenvoudige tabel: de totale aantallen informatica-examens in enkele opeenvolgende jaren.\n",
    "\n",
    "* `inf_jaar = pd.Series.from_csv(\"inf-jaar.csv\", header=0)`\n",
    "* `print(inf_jaar)`\n",
    "* `print(inf_jaar.index)`"
   ]
  },
  {
   "cell_type": "code",
   "execution_count": null,
   "metadata": {
    "collapsed": true
   },
   "outputs": [],
   "source": []
  },
  {
   "cell_type": "markdown",
   "metadata": {
    "slideshow": {
     "slide_type": "slide"
    }
   },
   "source": [
    "We tekenen de lijngrafiek met:\n",
    "\n",
    "* `inf_jaar.plot.line()`"
   ]
  },
  {
   "cell_type": "code",
   "execution_count": null,
   "metadata": {
    "collapsed": true
   },
   "outputs": [],
   "source": []
  },
  {
   "cell_type": "markdown",
   "metadata": {
    "slideshow": {
     "slide_type": "slide"
    }
   },
   "source": [
    "Merk op dat deze grafiek een vertekend beeld geeft: de y-as is verschoven, waardoor de verschillen veel groter lijken dan ze eigenlijk zijn.\n",
    "\n",
    "Je kunt de parameters voor de grafiek zo instellen dat de y-as niet verschuift:\n",
    "\n",
    "* `inf_jaar.plot.line(ylim=(0, 12000))`"
   ]
  },
  {
   "cell_type": "code",
   "execution_count": null,
   "metadata": {
    "collapsed": true
   },
   "outputs": [],
   "source": []
  }
 ],
 "metadata": {
  "celltoolbar": "Slideshow",
  "kernelspec": {
   "display_name": "Python [conda root]",
   "language": "python",
   "name": "conda-root-py"
  },
  "language_info": {
   "codemirror_mode": {
    "name": "ipython",
    "version": 3
   },
   "file_extension": ".py",
   "mimetype": "text/x-python",
   "name": "python",
   "nbconvert_exporter": "python",
   "pygments_lexer": "ipython3",
   "version": "3.5.2"
  }
 },
 "nbformat": 4,
 "nbformat_minor": 2
}
