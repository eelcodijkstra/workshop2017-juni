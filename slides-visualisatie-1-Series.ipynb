{
 "cells": [
  {
   "cell_type": "markdown",
   "metadata": {
    "slideshow": {
     "slide_type": "slide"
    }
   },
   "source": [
    "# Visualisatie: Series\n",
    "\n",
    "In dit notebook introduceren we de pandas Series. We maken hiermee enkele basisgrafieken.\n",
    "\n",
    "We beginnen met het importeren van de nodige modules: pandas, matplotlib en numpy"
   ]
  },
  {
   "cell_type": "code",
   "execution_count": 19,
   "metadata": {
    "collapsed": true,
    "slideshow": {
     "slide_type": "slide"
    }
   },
   "outputs": [],
   "source": [
    "import pandas as pd\n",
    "import numpy as np\n",
    "\n",
    "import matplotlib.pyplot as plt\n",
    "\n",
    "%matplotlib inline    \n",
    "## pd.options.display.mpl_style = 'default'"
   ]
  },
  {
   "cell_type": "markdown",
   "metadata": {
    "slideshow": {
     "slide_type": "slide"
    }
   },
   "source": [
    "## Inlezen van een Series\n",
    "\n",
    "Voor het inlezen van een Series uit een *csv-bestand* gebruiken we de functie `pd.Series.from_csv`.\n",
    "De eerste rij bevat de namen van de kolommen:    "
   ]
  },
  {
   "cell_type": "code",
   "execution_count": 20,
   "metadata": {
    "scrolled": true,
    "slideshow": {
     "slide_type": "fragment"
    }
   },
   "outputs": [
    {
     "name": "stdout",
     "output_type": "stream",
     "text": [
      "PROVINCIE,AANTAL\r\n",
      "Drenthe,244\r\n",
      "Flevoland,81\r\n",
      "Friesland,233\r\n",
      "Gelderland,1064\r\n",
      "Groningen,256\r\n",
      "Limburg,744\r\n",
      "Noord-Brabant,1704\r\n",
      "Noord-Holland,2379\r\n",
      "Overijssel,710\r\n",
      "Utrecht,724\r\n",
      "Zeeland,198\r\n",
      "Zuid-Holland,2145\r\n"
     ]
    }
   ],
   "source": [
    "!cat prov-2015.csv"
   ]
  },
  {
   "cell_type": "markdown",
   "metadata": {
    "slideshow": {
     "slide_type": "slide"
    }
   },
   "source": [
    "## Inlezen van een Series (vervolg)\n",
    "\n",
    "* voor het inlezen gebruiken we: "
   ]
  },
  {
   "cell_type": "code",
   "execution_count": 21,
   "metadata": {
    "collapsed": true,
    "slideshow": {
     "slide_type": "fragment"
    }
   },
   "outputs": [],
   "source": [
    "prov_2015 = pd.Series.from_csv(\"prov-2015.csv\", header=0)"
   ]
  },
  {
   "cell_type": "markdown",
   "metadata": {
    "slideshow": {
     "slide_type": "slide"
    }
   },
   "source": [
    "Het resultaat:"
   ]
  },
  {
   "cell_type": "code",
   "execution_count": 22,
   "metadata": {
    "slideshow": {
     "slide_type": "fragment"
    }
   },
   "outputs": [
    {
     "data": {
      "text/plain": [
       "PROVINCIE\n",
       "Drenthe           244\n",
       "Flevoland          81\n",
       "Friesland         233\n",
       "Gelderland       1064\n",
       "Groningen         256\n",
       "Limburg           744\n",
       "Noord-Brabant    1704\n",
       "Noord-Holland    2379\n",
       "Overijssel        710\n",
       "Utrecht           724\n",
       "Zeeland           198\n",
       "Zuid-Holland     2145\n",
       "Name: AANTAL, dtype: int64"
      ]
     },
     "execution_count": 22,
     "metadata": {},
     "output_type": "execute_result"
    }
   ],
   "source": [
    "prov_2015"
   ]
  },
  {
   "cell_type": "markdown",
   "metadata": {
    "slideshow": {
     "slide_type": "slide"
    }
   },
   "source": [
    "## Index en waarden\n",
    "\n",
    "Een Series bestaat uit twee parallelle kolommen: de *index* en de *waarden*.\n",
    "Voorbeeld:\n"
   ]
  },
  {
   "cell_type": "code",
   "execution_count": 23,
   "metadata": {
    "slideshow": {
     "slide_type": "fragment"
    }
   },
   "outputs": [
    {
     "data": {
      "text/plain": [
       "Index(['Drenthe', 'Flevoland', 'Friesland', 'Gelderland', 'Groningen',\n",
       "       'Limburg', 'Noord-Brabant', 'Noord-Holland', 'Overijssel', 'Utrecht',\n",
       "       'Zeeland', 'Zuid-Holland'],\n",
       "      dtype='object', name='PROVINCIE')"
      ]
     },
     "execution_count": 23,
     "metadata": {},
     "output_type": "execute_result"
    }
   ],
   "source": [
    "prov_2015.index"
   ]
  },
  {
   "cell_type": "code",
   "execution_count": 24,
   "metadata": {
    "slideshow": {
     "slide_type": "fragment"
    }
   },
   "outputs": [
    {
     "data": {
      "text/plain": [
       "array([ 244,   81,  233, 1064,  256,  744, 1704, 2379,  710,  724,  198,\n",
       "       2145])"
      ]
     },
     "execution_count": 24,
     "metadata": {},
     "output_type": "execute_result"
    }
   ],
   "source": [
    "prov_2015.values"
   ]
  },
  {
   "cell_type": "markdown",
   "metadata": {
    "slideshow": {
     "slide_type": "slide"
    }
   },
   "source": [
    "Je kunt een bepaalde rij (waarde) selecteren met behulp van een index-waarde. Als de index een string (naam) is, kan dit op meerdere manieren:"
   ]
  },
  {
   "cell_type": "code",
   "execution_count": 25,
   "metadata": {
    "slideshow": {
     "slide_type": "fragment"
    }
   },
   "outputs": [
    {
     "data": {
      "text/plain": [
       "244"
      ]
     },
     "execution_count": 25,
     "metadata": {},
     "output_type": "execute_result"
    }
   ],
   "source": [
    "prov_2015[\"Drenthe\"]"
   ]
  },
  {
   "cell_type": "code",
   "execution_count": 34,
   "metadata": {
    "slideshow": {
     "slide_type": "fragment"
    }
   },
   "outputs": [
    {
     "data": {
      "text/plain": [
       "244"
      ]
     },
     "execution_count": 34,
     "metadata": {},
     "output_type": "execute_result"
    }
   ],
   "source": [
    "prov_2015.Drenthe"
   ]
  },
  {
   "cell_type": "markdown",
   "metadata": {
    "slideshow": {
     "slide_type": "slide"
    }
   },
   "source": [
    "## Samenvatten (aggregatie)\n",
    "\n",
    "Op Series zijn allerlei operaties mogelijk. Je kunt de waarden samenvatten (aggregatie), bijvoorbeeld door deze op te tellen (`sum()`; het gemiddelde te berekenen (`mean()`; te tellen `count()`; enz."
   ]
  },
  {
   "cell_type": "code",
   "execution_count": 27,
   "metadata": {
    "slideshow": {
     "slide_type": "fragment"
    }
   },
   "outputs": [
    {
     "data": {
      "text/plain": [
       "10482"
      ]
     },
     "execution_count": 27,
     "metadata": {},
     "output_type": "execute_result"
    }
   ],
   "source": [
    "prov_2015.sum()"
   ]
  },
  {
   "cell_type": "markdown",
   "metadata": {
    "slideshow": {
     "slide_type": "slide"
    }
   },
   "source": [
    "## Plotten: bar chart\n",
    "\n",
    "We maken een aantal basisgrafieken met deze data.\n",
    "\n",
    "De eenvoudigste grafiek is de *bar chart*."
   ]
  },
  {
   "cell_type": "code",
   "execution_count": 28,
   "metadata": {
    "slideshow": {
     "slide_type": "-"
    }
   },
   "outputs": [
    {
     "data": {
      "text/plain": [
       "<matplotlib.axes._subplots.AxesSubplot at 0x7fa2e9b0af28>"
      ]
     },
     "execution_count": 28,
     "metadata": {},
     "output_type": "execute_result"
    },
    {
     "data": {
      "image/png": "[encoded data removed]",
      "text/plain": [
       "<matplotlib.figure.Figure at 0x7fa314413a58>"
      ]
     },
     "metadata": {},
     "output_type": "display_data"
    }
   ],
   "source": [
    "prov_2015.plot.bar()"
   ]
  },
  {
   "cell_type": "markdown",
   "metadata": {
    "slideshow": {
     "slide_type": "skip"
    }
   },
   "source": [
    "Voor meer informatie over plot van Series:\n",
    "\n",
    "* https://pandas.pydata.org/pandas-docs/stable/generated/pandas.Series.plot.bar.html\n",
    "* https://pandas.pydata.org/pandas-docs/stable/generated/pandas.Series.plot.html#pandas.Series.plot"
   ]
  },
  {
   "cell_type": "markdown",
   "metadata": {
    "slideshow": {
     "slide_type": "slide"
    }
   },
   "source": [
    "### Sorteren\n",
    "\n",
    "We geven de provincies weer in volgorde van opklimmende aantallen examens. \n",
    "NB: `sort_values` verandert zo niets aan de inhoud of volgorde van `prov_2015`."
   ]
  },
  {
   "cell_type": "code",
   "execution_count": 35,
   "metadata": {
    "slideshow": {
     "slide_type": "-"
    }
   },
   "outputs": [
    {
     "data": {
      "text/plain": [
       "<matplotlib.axes._subplots.AxesSubplot at 0x7fa2e8f41e80>"
      ]
     },
     "execution_count": 35,
     "metadata": {},
     "output_type": "execute_result"
    },
    {
     "data": {
      "image/png": "[encoded data removed]",
      "text/plain": [
       "<matplotlib.figure.Figure at 0x7fa2e8f05b38>"
      ]
     },
     "metadata": {},
     "output_type": "display_data"
    }
   ],
   "source": [
    "prov_2015.sort_values(ascending=True).plot.bar()"
   ]
  },
  {
   "cell_type": "markdown",
   "metadata": {
    "slideshow": {
     "slide_type": "slide"
    }
   },
   "source": [
    "## Plot: pie chart\n",
    "\n",
    "Op eenzelfde manier kun je eenvoudig een pie chart (taartdiagram) tekenen. Ook hier kan sorteren zinvol zijn."
   ]
  },
  {
   "cell_type": "code",
   "execution_count": 30,
   "metadata": {
    "slideshow": {
     "slide_type": "-"
    }
   },
   "outputs": [
    {
     "data": {
      "text/plain": [
       "<matplotlib.axes._subplots.AxesSubplot at 0x7fa2e9106e80>"
      ]
     },
     "execution_count": 30,
     "metadata": {},
     "output_type": "execute_result"
    },
    {
     "data": {
      "image/png": "[encoded data removed]",
      "text/plain": [
       "<matplotlib.figure.Figure at 0x7fa2e9b1ae48>"
      ]
     },
     "metadata": {},
     "output_type": "display_data"
    }
   ],
   "source": [
    "prov_2015.sort_values(ascending=False).plot.pie()"
   ]
  },
  {
   "cell_type": "markdown",
   "metadata": {
    "slideshow": {
     "slide_type": "slide"
    }
   },
   "source": [
    "## Plot: lijngrafiek\n",
    "\n",
    "Voor de lijngrafiek gebruiken we bij voorkeur kwantitatieve data: waarden op de x-as die je in getallen kunt uitdrukken.\n",
    "\n",
    "> Je kunt van de `prov_2015`-data ook een lijngrafiek tekenen -probeer maar eens-. Maar dat heeft niet zoveel zin: je kunt bijvoorbeeld niet spreken van een \"stijging tussen Zeeland en Zuid-Holland\".\n",
    "\n",
    "We gebruiken een eenvoudige tabel: de totale aantallen informatica-examens in enkele opeenvolgende jaren."
   ]
  },
  {
   "cell_type": "code",
   "execution_count": 31,
   "metadata": {
    "slideshow": {
     "slide_type": "fragment"
    }
   },
   "outputs": [
    {
     "name": "stdout",
     "output_type": "stream",
     "text": [
      "JAAR\n",
      "2011-01-01    10002\n",
      "2012-01-01     9452\n",
      "2013-01-01     9576\n",
      "2014-01-01    10041\n",
      "2015-01-01    10482\n",
      "Name: AANTAL, dtype: int64\n",
      "DatetimeIndex(['2011-01-01', '2012-01-01', '2013-01-01', '2014-01-01',\n",
      "               '2015-01-01'],\n",
      "              dtype='datetime64[ns]', name='JAAR', freq=None)\n"
     ]
    }
   ],
   "source": [
    "inf_jaar = pd.Series.from_csv(\"inf-jaar.csv\", header=0)\n",
    "print(inf_jaar)\n",
    "print(inf_jaar.index)"
   ]
  },
  {
   "cell_type": "markdown",
   "metadata": {
    "slideshow": {
     "slide_type": "slide"
    }
   },
   "source": [
    "We tekenen de lijngrafiek met:"
   ]
  },
  {
   "cell_type": "code",
   "execution_count": 32,
   "metadata": {},
   "outputs": [
    {
     "data": {
      "text/plain": [
       "<matplotlib.axes._subplots.AxesSubplot at 0x7fa2e8fe3be0>"
      ]
     },
     "execution_count": 32,
     "metadata": {},
     "output_type": "execute_result"
    },
    {
     "data": {
      "image/png": "[encoded data removed]",
      "text/plain": [
       "<matplotlib.figure.Figure at 0x7fa2e90ce0f0>"
      ]
     },
     "metadata": {},
     "output_type": "display_data"
    }
   ],
   "source": [
    "inf_jaar.plot.line()"
   ]
  },
  {
   "cell_type": "markdown",
   "metadata": {
    "slideshow": {
     "slide_type": "slide"
    }
   },
   "source": [
    "Merk op dat deze grafiek een vertekend beeld geeft: de y-as is verschoven, waardoor de verschillen veel groter lijken dan ze eigenlijk zijn.\n",
    "\n",
    "Je kunt de parameters voor de grafiek zo instellen dat de y-as niet verschuift:\n",
    "\n",
    "* `inf_jaar.plot.line(ylim=(0, 12000))`"
   ]
  },
  {
   "cell_type": "code",
   "execution_count": 33,
   "metadata": {},
   "outputs": [
    {
     "data": {
      "text/plain": [
       "<matplotlib.axes._subplots.AxesSubplot at 0x7fa2e900c7f0>"
      ]
     },
     "execution_count": 33,
     "metadata": {},
     "output_type": "execute_result"
    },
    {
     "data": {
      "image/png": "[encoded data removed]",
      "text/plain": [
       "<matplotlib.figure.Figure at 0x7fa2e8f8b2e8>"
      ]
     },
     "metadata": {},
     "output_type": "display_data"
    }
   ],
   "source": [
    "inf_jaar.plot.line(ylim=(0, 12000))"
   ]
  }
 ],
 "metadata": {
  "celltoolbar": "Slideshow",
  "kernelspec": {
   "display_name": "Python 3",
   "language": "python",
   "name": "python3"
  },
  "language_info": {
   "codemirror_mode": {
    "name": "ipython",
    "version": 3
   },
   "file_extension": ".py",
   "mimetype": "text/x-python",
   "name": "python",
   "nbconvert_exporter": "python",
   "pygments_lexer": "ipython3",
   "version": "3.6.1"
  }
 },
 "nbformat": 4,
 "nbformat_minor": 2
}
