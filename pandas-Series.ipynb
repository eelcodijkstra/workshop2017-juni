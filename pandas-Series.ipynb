{
 "cells": [
  {
   "cell_type": "markdown",
   "metadata": {},
   "source": [
    "# pandas Series\n",
    "\n",
    "We geven hier enkele van de mogelijkheden van pandas Series. In de pandas API-handleiding zijn nog veel meer mogelijkheden te vinden.\n"
   ]
  },
  {
   "cell_type": "code",
   "execution_count": null,
   "metadata": {
    "collapsed": true
   },
   "outputs": [],
   "source": [
    "import pandas as pd\n",
    "import numpy as np\n",
    "import matplotlib.pyplot as plt\n",
    "\n",
    "%matplotlib inline    \n",
    "## pd.options.display.mpl_style = 'default'"
   ]
  },
  {
   "cell_type": "code",
   "execution_count": null,
   "metadata": {
    "collapsed": true
   },
   "outputs": [],
   "source": [
    "prov_2015 = pd.Series.from_csv(\"prov-2015.csv\", header=0)\n",
    "prov_2014 = pd.Series.from_csv(\"prov-2014.csv\", header=0)"
   ]
  },
  {
   "cell_type": "markdown",
   "metadata": {},
   "source": [
    "## Indicering; index en waarden\n",
    "\n",
    "Een Series bestaat uit twee parallelle arrays: een index-array en een waarden-array (`values`)\n",
    "\n",
    "* `prov_2015.index`\n",
    "* `prov_2015.values`"
   ]
  },
  {
   "cell_type": "code",
   "execution_count": null,
   "metadata": {
    "collapsed": true
   },
   "outputs": [],
   "source": []
  },
  {
   "cell_type": "code",
   "execution_count": null,
   "metadata": {
    "collapsed": true
   },
   "outputs": [],
   "source": []
  },
  {
   "cell_type": "markdown",
   "metadata": {},
   "source": [
    "Door middel van indicering (met een index-waarde) selecteer je een waarde uit de Series:\n",
    "\n",
    "* `prov_2015[\"Limburg\"]`"
   ]
  },
  {
   "cell_type": "code",
   "execution_count": null,
   "metadata": {
    "collapsed": true
   },
   "outputs": [],
   "source": []
  },
  {
   "cell_type": "markdown",
   "metadata": {},
   "source": [
    "### Indicering met rangnummer\n",
    "\n",
    "Je kunt een Series ook indiceren met het rangnummer (vanaf 0 gerekend), onafhankelijk van de index.\n",
    "\n",
    "* `prov_2015.iloc[4]`"
   ]
  },
  {
   "cell_type": "code",
   "execution_count": null,
   "metadata": {
    "collapsed": true
   },
   "outputs": [],
   "source": []
  },
  {
   "cell_type": "markdown",
   "metadata": {},
   "source": [
    "### Selectie van meerdere elementen\n",
    "\n",
    "Je kunt ook meerdere elementen selecteren. Je krijgt dan een nieuwe Series; de volgorde in de selectie-lijst bepaalt de index-volgorde. Bijvoorbeeld:\n",
    "    \n",
    "* `prov_2015[[\"Friesland\", \"Groningen\", \"Drenthe\"]]`"
   ]
  },
  {
   "cell_type": "code",
   "execution_count": null,
   "metadata": {},
   "outputs": [],
   "source": [
    "prov_2015[[\"Friesland\", \"Groningen\", \"Drenthe\"]]"
   ]
  },
  {
   "cell_type": "markdown",
   "metadata": {},
   "source": [
    "### Weglaten van een of meerdere elementen\n",
    "\n",
    "Je kunt één of meerdere elementen weglaten met de `drop`-opdracht. Merk op dat hierbij de oorspronkelijke waarde (`prov_2015`) niet verandert: je krijgt een nieuwe Series-waarde.\n",
    "\n",
    "* `prov_2015.drop(\"Drenthe\")`\n",
    "* `prov_2015.drop([\"Friesland\", \"Groningen\", \"Drenthe\"])`"
   ]
  },
  {
   "cell_type": "code",
   "execution_count": null,
   "metadata": {
    "collapsed": true
   },
   "outputs": [],
   "source": []
  },
  {
   "cell_type": "markdown",
   "metadata": {},
   "source": [
    "## Sorteren\n",
    "\n",
    "Je kunt sorteren op de *waarden* in de Series; dit is wat je meestal gebruikt. Met de parameter `ascending` geef je aan of je opklimmend wilt sorteren (of niet).\n",
    "\n",
    "* `prov_2015.sort_values()`\n",
    "* `prov_2015.sort_values(ascending=False)`\n",
    "* ... gebruik dit om een bar-chart te tekenen."
   ]
  },
  {
   "cell_type": "code",
   "execution_count": null,
   "metadata": {
    "collapsed": true
   },
   "outputs": [],
   "source": []
  },
  {
   "cell_type": "markdown",
   "metadata": {},
   "source": [
    "Je kunt ook sorteren op de *index*. (Hier zie je duidelijk dat je met twee parallelle arrays te maken hebt.)\n",
    "\n",
    "* `prov_2015.sort_index(ascending=False)`"
   ]
  },
  {
   "cell_type": "code",
   "execution_count": null,
   "metadata": {
    "collapsed": true
   },
   "outputs": [],
   "source": []
  },
  {
   "cell_type": "markdown",
   "metadata": {},
   "source": [
    "### Selectie met boolean expressie\n",
    "\n",
    "Een krachtig hulpmiddel is de selectie met behulp van een boolean expressie. Een vergelijking van de vorm `prov_2015 > 500` levert een Series op met boolean waarden op (ga dat na!). Deze kun je vervolgens gebruiken voor het selecteren in een Series met eenzelfde index.\n",
    "\n",
    "* `prov_2015 > 500`\n",
    "* `prov_2015[prov_2015 > 500]`\n",
    "* ... gebruik deze laatste voor het tekenen van een bar-chart met gesorteerde waarden. (Maakt het uit of je eerst selecteert, of eerst sorteert?)"
   ]
  },
  {
   "cell_type": "code",
   "execution_count": null,
   "metadata": {
    "collapsed": true
   },
   "outputs": [],
   "source": []
  },
  {
   "cell_type": "markdown",
   "metadata": {},
   "source": [
    "## Samenvatten van een Series\n",
    "\n",
    "Je kunt een series samenvatten door te sommeren, te tellen, gemiddelde te bepalen, enz.\n",
    "\n",
    "* https://pandas.pydata.org/pandas-docs/stable/api.html#computations-descriptive-stats\n",
    "\n",
    "* prov_2015.sum()\n",
    "* prov_2015.count()\n",
    "* prov_2015.mean()"
   ]
  },
  {
   "cell_type": "code",
   "execution_count": null,
   "metadata": {
    "collapsed": true
   },
   "outputs": [],
   "source": []
  },
  {
   "cell_type": "markdown",
   "metadata": {},
   "source": [
    "### Rekenen met Series\n",
    "\n",
    "Je kunt op veel manieren rekenen met series, bijvoorbeeld:\n",
    "\n",
    "* Series `+ - * /` scalar\n",
    "* Series `+ - * /` Series\n",
    "\n",
    "Voorbeelden:\n",
    "\n",
    "* prov_2015 * 100 / prov_2015.sum()\n",
    "    * wat geeft dit weer?\n",
    "* prov_2015 - prov_2014\n",
    "    * teken van dit laatste verschil een bar-chart"
   ]
  },
  {
   "cell_type": "code",
   "execution_count": null,
   "metadata": {
    "collapsed": true
   },
   "outputs": [],
   "source": []
  }
 ],
 "metadata": {
  "kernelspec": {
   "display_name": "Python [conda root]",
   "language": "python",
   "name": "conda-root-py"
  },
  "language_info": {
   "codemirror_mode": {
    "name": "ipython",
    "version": 3
   },
   "file_extension": ".py",
   "mimetype": "text/x-python",
   "name": "python",
   "nbconvert_exporter": "python",
   "pygments_lexer": "ipython3",
   "version": "3.5.2"
  }
 },
 "nbformat": 4,
 "nbformat_minor": 2
}
