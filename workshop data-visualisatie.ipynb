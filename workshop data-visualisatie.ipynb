{
 "cells": [
  {
   "cell_type": "markdown",
   "metadata": {
    "slideshow": {
     "slide_type": "slide"
    }
   },
   "source": [
    "# Workshop data-visualisatie met Python"
   ]
  },
  {
   "cell_type": "markdown",
   "metadata": {
    "slideshow": {
     "slide_type": "slide"
    }
   },
   "source": [
    "* Data Science: vinden van betekenis in data\n",
    "    * Combinatie van *wiskunde* en *informatica*\n",
    "* Data Science: belangrijk in wetenschap en bedrijf\n",
    "    * relevant voor alle leerlingen\n",
    "* Visualisatie: eerste stap in Data Science\n",
    "    * vervolg o.a. statistiek en modelleren\n",
    "* Python: veel gebruikt laagdrempelig hulpmiddel\n",
    "    * naast bijv. R"
   ]
  },
  {
   "cell_type": "markdown",
   "metadata": {
    "slideshow": {
     "slide_type": "slide"
    }
   },
   "source": [
    "## Doel van deze workshop\n",
    "\n",
    "Kennismaking met:\n",
    "\n",
    "* visualisatie\n",
    "    * basisgrafieken; basisbegrippen\n",
    "* Jupyter Notebook\n",
    "    * interactief Python werkboek (ook voor R, enz.)\n",
    "* pandas\n",
    "    * tabellen (in Python): inlezen, transformeren, enz.\n",
    "* matplotlib\n",
    "    * grafieken"
   ]
  },
  {
   "cell_type": "markdown",
   "metadata": {
    "slideshow": {
     "slide_type": "slide"
    }
   },
   "source": [
    "## Visualisatie\n",
    "\n",
    "Enkele fraaie voorbeelden:\n",
    "\n",
    "* Hans Rosling (TED): https://www.ted.com/talks/hans_rosling_shows_the_best_stats_you_ve_ever_seen\n",
    "* Hans Rosling playlist: https://www.ted.com/playlists/474/the_best_hans_rosling_talks_yo\n",
    "* Meer op TED: https://www.ted.com/topics/visualizations"
   ]
  },
  {
   "cell_type": "markdown",
   "metadata": {
    "slideshow": {
     "slide_type": "slide"
    }
   },
   "source": [
    "## Data-begrippen\n",
    "\n",
    "Soorten data:\n",
    "\n",
    "* kwalitatieve data:\n",
    "    * onderscheiden in categorieën\n",
    "    * \"tellen\"\n",
    "    * vb: \"provincie\", \"schoolvak\"\n",
    "* kwantitatieve data:\n",
    "    * verschijnsel uitdrukken in *getal*\n",
    "    * vergelijken van getallen (meer/minder)\n",
    "    * verhoudingen van getallen, schaling (mits natuurlijk nulpunt)\n",
    "    * vb: \"tijd\", \"afstand\", \"snelheid\", \n",
    "    * \"temperatuur\"\n"
   ]
  },
  {
   "cell_type": "markdown",
   "metadata": {
    "slideshow": {
     "slide_type": "notes"
    }
   },
   "source": [
    "Als er voor kwantitatieve data een natuurlijk nulpunt is, kun je spreken over verhouding (ratio): bijvoorbeeld, snelheid A is tweemaal snelheid B.\n",
    "\n",
    "Als er geen natuurlijk nulpunt is, kan dat niet: je kunt niet spreken over \"tweemaal zo heet\" als je in graden Celcius rekent. (Dat kan in principe wel als je in Kelvin rekent.) --- Beter voorbeeld?"
   ]
  },
  {
   "cell_type": "markdown",
   "metadata": {
    "slideshow": {
     "slide_type": "slide"
    }
   },
   "source": [
    "## Basisgrafieken\n",
    "\n",
    "* lijngrafiek\n",
    "    * *kwantitatieve* data op x-as \n",
    "    * vb: tijd op x-as\n",
    "* bar chart\n",
    "    * *kwalitatieve* data op x-as\n",
    "    * soms *kwantitatieve* data op x-as\n",
    "    * meerdere data: naast elkaar of stapelen\n",
    "* pie chart\n",
    "    * *kwalitatieve* data"
   ]
  },
  {
   "cell_type": "markdown",
   "metadata": {
    "slideshow": {
     "slide_type": "slide"
    }
   },
   "source": [
    "    \n",
    "## Geavanceerde grafieken\n",
    "\n",
    "* kaarten/geodata\n",
    "    * met gebruik van *Folium*"
   ]
  },
  {
   "cell_type": "markdown",
   "metadata": {
    "slideshow": {
     "slide_type": "slide"
    }
   },
   "source": [
    "## Opzet van de workshop\n",
    "\n",
    "1. Oefenen met Jupyter Notebook\n",
    "2. pandas Series: inlezen, basisgrafieken\n",
    "3. pandas DataFrame: inlezen, basisgrafieken\n",
    "4. pandas Series: indicering, selectie, samenvatten\n",
    "5. pandas DataFrame: indicering, selectie, samenvatten\n",
    "6. pandas DataFrame: transformeren (pivot)...\n",
    "7. DUO data: inlezen en transformeren\n",
    "8. ... kaarten ...\n",
    "\n",
    "Rode draad: \"informatica in VO: scholen en leerlingen (examens)\"\n",
    "\n",
    "> Steeds meer leerlingen doen examen - op steeds minder scholen."
   ]
  },
  {
   "cell_type": "markdown",
   "metadata": {
    "slideshow": {
     "slide_type": "slide"
    }
   },
   "source": [
    "## Oefeningen-notebooks\n",
    "\n",
    "1. [Oefening Jupyter Notebooks](./notebook-intro.ipynb)\n",
    "2. [Visualisatie 1 - met pandas Series](./visualisatie-1-Series.ipynb)\n",
    "3. [Visualisatie 2 - met pandas DataFrame](./visualisatie-2-DataFrame.ipynb)\n",
    "4. [pandas Series](./pandas-Series.ipynb)\n",
    "5. [pandas DataFrame](./pandas-DataFrame.ipynb)\n",
    "6. [pivot](./pivot.ipynb)\n",
    "\n",
    "### DUO data\n",
    "\n",
    "* [DUO data - transformatie](./DUO-data-transform.ipynb)"
   ]
  },
  {
   "cell_type": "markdown",
   "metadata": {
    "slideshow": {
     "slide_type": "slide"
    }
   },
   "source": [
    "## Referenties\n",
    "\n",
    "pandas documentatie:\n",
    "\n",
    "* 10 min inleiding: https://pandas.pydata.org/pandas-docs/stable/10min.html\n",
    "* https://pandas.pydata.org/pandas-docs/stable/index.html\n",
    "* vgl. SQL: https://pandas.pydata.org/pandas-docs/stable/comparison_with_sql.html\n",
    "\n",
    "Inleiding, Cookbook:\n",
    "\n",
    "* http://pandas.pydata.org/pandas-docs/version/0.15.2/10min.html\n",
    "* http://pandas.pydata.org/pandas-docs/version/0.15.2/cookbook.html#cookbook\n",
    "\n",
    "Folium:\n",
    "\n",
    "* documentatie: https://folium.readthedocs.io\n",
    "* voorbeelden: http://nbviewer.jupyter.org/github/python-visualization/folium/tree/master/examples/\n",
    "* heatmap-vb:  https://docs.google.com/document/d/1TwFl_B1yXbq4682WItJ01z69STikRVU5IzbtS3JEwhk/edit"
   ]
  },
  {
   "cell_type": "markdown",
   "metadata": {
    "slideshow": {
     "slide_type": "slide"
    }
   },
   "source": [
    "## Volgende stappen\n",
    "\n",
    "* pandas multi-index\n",
    "* kaart-grafieken\n",
    "* interactieve grafieken met behulp van Widgets\n",
    "* inleveren van notebook; beoordeling (Jupyter nbgrader)\n",
    "* Jupyter Lab (vrijer formaat dan notebook)"
   ]
  },
  {
   "cell_type": "code",
   "execution_count": 1,
   "metadata": {},
   "outputs": [
    {
     "name": "stdout",
     "output_type": "stream",
     "text": [
      "Fetching package metadata .............\n",
      "Solving package specifications: .\n",
      "\n",
      "Package plan for installation in environment /Users/eelco/anaconda:\n",
      "\n",
      "The following NEW packages will be INSTALLED:\n",
      "\n",
      "    ipyleaflet: 0.3.0-py35_0  conda-forge\n",
      "\n",
      "The following packages will be SUPERSEDED by a higher-priority channel:\n",
      "\n",
      "    conda:      4.3.21-py35_0             --> 4.2.13-py35_0 conda-forge\n",
      "    conda-env:  2.6.0-0                   --> 2.6.0-0       conda-forge\n",
      "\n",
      "conda-env-2.6. 100% |################################| Time: 0:00:00 509.99 kB/s\n",
      "ipyleaflet-0.3 100% |################################| Time: 0:00:00 845.05 kB/s\n"
     ]
    }
   ],
   "source": [
    "!conda install -c conda-forge ipyleaflet -y"
   ]
  },
  {
   "cell_type": "code",
   "execution_count": null,
   "metadata": {
    "collapsed": true
   },
   "outputs": [],
   "source": []
  }
 ],
 "metadata": {
  "celltoolbar": "Slideshow",
  "kernelspec": {
   "display_name": "Python [conda root]",
   "language": "python",
   "name": "conda-root-py"
  },
  "language_info": {
   "codemirror_mode": {
    "name": "ipython",
    "version": 3
   },
   "file_extension": ".py",
   "mimetype": "text/x-python",
   "name": "python",
   "nbconvert_exporter": "python",
   "pygments_lexer": "ipython3",
   "version": "3.5.2"
  }
 },
 "nbformat": 4,
 "nbformat_minor": 2
}
