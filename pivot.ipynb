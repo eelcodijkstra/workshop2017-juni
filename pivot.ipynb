{
 "cells": [
  {
   "cell_type": "markdown",
   "metadata": {},
   "source": [
    "# Pivot: reorganiseren van rijen en kolommen\n",
    "\n",
    "Voor het tekenen van een bepaalde grafiek vanuit de data, moeten we eerst de data in de goede vorm brengen. Dit kan onder andere door de rijen en de kolommen van een tabel anders te organiseren. Hiervoor gebruiken we operaties als *pivot* en *transpose*.\n",
    "\n",
    "* je kunt de *waarden* in een rij omvormen tot kolommen\n",
    "* je kunt rijen en kolommen omwisselen \n",
    "    * via *pivot* of via *transpose*.\n",
    "\n",
    "Voordat we een grafiek tekenen, maken we een tabel met een geschikte vorm:\n",
    "\n",
    "* de index van de tabel komt overeen met de x-as van de grafiek.\n",
    "* de verschillende kolommen kunnen verschillende lijnen zijn, of \"bars\" in een bar-chart.\n",
    "\n",
    "We beginnen met de standaard-importregels voor pandas en matplotlib."
   ]
  },
  {
   "cell_type": "code",
   "execution_count": null,
   "metadata": {
    "collapsed": true
   },
   "outputs": [],
   "source": [
    "import pandas as pd\n",
    "import numpy as np\n",
    "import matplotlib.pyplot as plt\n",
    "\n",
    "%matplotlib inline    \n",
    "## pd.options.display.mpl_style = 'default'"
   ]
  },
  {
   "cell_type": "markdown",
   "metadata": {},
   "source": [
    "Vervolgens lezen we de tabel in waarvoor we verschillende grafieken willen tekenen."
   ]
  },
  {
   "cell_type": "code",
   "execution_count": null,
   "metadata": {},
   "outputs": [],
   "source": [
    "prov_jaar = pd.read_csv(\"prov-jaar.csv\", sep=\",\")\n",
    "prov_jaar.head(7)"
   ]
  },
  {
   "cell_type": "markdown",
   "metadata": {},
   "source": [
    "**Opdracht**: zoek de structuur van `prov_jaar` uit, door de `index` en de `columns` daarvan op te vragen via de cellen hieronder."
   ]
  },
  {
   "cell_type": "code",
   "execution_count": null,
   "metadata": {
    "collapsed": true
   },
   "outputs": [],
   "source": []
  },
  {
   "cell_type": "code",
   "execution_count": null,
   "metadata": {
    "collapsed": true
   },
   "outputs": [],
   "source": []
  },
  {
   "cell_type": "markdown",
   "metadata": {},
   "source": [
    "## Grafiek 1: lijngrafiek met jaar op x-as\n",
    "\n",
    "Als eerste willen we een *lijngrafiek* maken, met de tijd (jaar) in de x-as. We moeten dan de tabel (DataFrame) een vorm geven met\n",
    "\n",
    "* index: jaar\n",
    "* kolommen: provincies (de namen van de provincies)\n",
    "* waarden: aantal examens\n",
    "\n",
    "> Als we de tijd (hier: jaartal) gebruiken als index, kunnen we een lijngrafiek maken van de ontwikkeling van de waarden in de tijd. Per kolom krijgen we een lijn in deze grafiek.\n",
    "\n",
    "We lezen eerst de tabel `prov-jaar.csv` in. Deze heeft als kolommen: PROVINCIE, JAAR en AANTAL. Vervolgens zetten we deze tabel in de juiste vorm voor de grafiek, en tekenen dan de grafiek.\n",
    "\n",
    "**Opmerkingen**:\n",
    "\n",
    "* voor verschillende grafieken hebben we verschillende pivots nodig.\n",
    "    * voor de lijngrafiek willen we het jaar als index (x-as) gebruiken;\n",
    "    * voor de bar-chart is het handiger om de provincie als index te gebruiken."
   ]
  },
  {
   "cell_type": "markdown",
   "metadata": {},
   "source": [
    "Als eerste stap maken we een *pivot* van deze tabel, met als index: `JAAR` en als kolommen de waarden uit: `PROVINCIE`; we willen de elementen van de kolom `AANTAL` als waarden in de tabel."
   ]
  },
  {
   "cell_type": "code",
   "execution_count": null,
   "metadata": {
    "scrolled": true
   },
   "outputs": [],
   "source": [
    "jp = prov_jaar.pivot(index=\"JAAR\", columns=\"PROVINCIE\", values=\"AANTAL\")\n",
    "jp"
   ]
  },
  {
   "cell_type": "markdown",
   "metadata": {},
   "source": [
    "Maak een lijngrafiek van deze tabel, met de kolommen als afzonderlijke lijnen (`df.plot.line()`):"
   ]
  },
  {
   "cell_type": "code",
   "execution_count": null,
   "metadata": {
    "collapsed": true
   },
   "outputs": [],
   "source": []
  },
  {
   "cell_type": "markdown",
   "metadata": {},
   "source": [
    "Met behulp van de `matplotlib`-opdrachten kun je de legenda op een betere plaats krijgen, bijvoorbeeld door de volgende regel toe te voegen (na de \"plot\" opdracht).\n",
    "\n",
    "```python\n",
    "plt.legend(bbox_to_anchor=(1, 1), loc=2)\n",
    "```"
   ]
  },
  {
   "cell_type": "code",
   "execution_count": null,
   "metadata": {
    "collapsed": true
   },
   "outputs": [],
   "source": []
  },
  {
   "cell_type": "markdown",
   "metadata": {},
   "source": [
    "Welke dingen vallen op aan deze grafiek? Kijk vooral naar de onderste en de bovenste lijnen."
   ]
  },
  {
   "cell_type": "markdown",
   "metadata": {},
   "source": [
    "## Grafiek 2: bar chart: jaar als index\n",
    "\n",
    "We maken een bar-chart met het jaar als index waarbij de verschillende kolommen gestapeld zijn (`stacked=True`). De hoogte van de bar is dan het totaal aantal leerlingen (examens) voor dat jaar.\n",
    "\n",
    "* gebruik hiervoor de opdracht `jp.plot.bar(stacked=True)`\n",
    "* zorg ervoor dat de legenda buiten de grafiek komt te staan.\n",
    "* geef de plot een titel via de opdracht: `plt.title(\"Informatica-examens HAVO en VWO\")`"
   ]
  },
  {
   "cell_type": "code",
   "execution_count": null,
   "metadata": {
    "collapsed": true
   },
   "outputs": [],
   "source": []
  },
  {
   "cell_type": "markdown",
   "metadata": {},
   "source": [
    "## Grafiek 3. bar chart: provincie als index\n",
    "\n",
    "We kunnen dezefde gegevens ook op een andere manier weergeven, met behulp van een bar chart. We nemen dan de provincie als index, en de jaartallen als kolommen.\n",
    "\n",
    "\n",
    "\n",
    "We kunnen de gewenste tabel maken met een pivot-operatie uit de oorspronkelijke tabel:\n",
    "\n",
    "```python\n",
    "pj1 = prov_jaar.pivot(index=\"PROVINCIE\", columns=\"JAAR\", values=\"AANTAL\")\n",
    "```\n",
    "\n",
    "Maar we kunnen ook simpelweg de rijen en kolommen omwisselen met de **transpose**-functie.\n",
    "\n",
    "```python\n",
    "pj1 = jp.T\n",
    "```\n",
    "\n",
    "**Opdracht**: voor beide uit, en ga na dat je hetzelfde resultaat krijgt."
   ]
  },
  {
   "cell_type": "code",
   "execution_count": null,
   "metadata": {
    "collapsed": true
   },
   "outputs": [],
   "source": [
    "pj1 = jp.T"
   ]
  },
  {
   "cell_type": "code",
   "execution_count": null,
   "metadata": {},
   "outputs": [],
   "source": []
  },
  {
   "cell_type": "markdown",
   "metadata": {},
   "source": [
    "Teken nu de bar-plot voor deze tabel (`df.plot.bar`):"
   ]
  },
  {
   "cell_type": "code",
   "execution_count": null,
   "metadata": {
    "collapsed": true
   },
   "outputs": [],
   "source": []
  },
  {
   "cell_type": "markdown",
   "metadata": {},
   "source": [
    "We kunnen in de grafiek de waarden van de verschillende kolommen naast elkaar weergeven (de default), of gestapeld. In dit voorbeeld heeft deze eerste vorm de voorkeur."
   ]
  },
  {
   "cell_type": "markdown",
   "metadata": {},
   "source": [
    "## Sorteren\n",
    "\n",
    "In het geval van een bar-chart met de provincies als index kunnen we zelf de volgorde van de index kiezen. De default is: alfabetisch op naam. Maar in dit geval willen we graag de provincies sorteren op het aantal leerlingen in het jaar 2015. We sorteren de rijen (met `sort_values`) \n",
    "\n",
    "```python\n",
    "pj1.sort_values(2015)\n",
    "```\n",
    "en tekenen vervolgens de bar-chart.\n",
    "\n",
    "```python\n",
    "pj1.sort_values(2015).plot.bar()\n",
    "```"
   ]
  },
  {
   "cell_type": "code",
   "execution_count": null,
   "metadata": {
    "collapsed": true
   },
   "outputs": [],
   "source": []
  },
  {
   "cell_type": "code",
   "execution_count": null,
   "metadata": {
    "collapsed": true
   },
   "outputs": [],
   "source": []
  },
  {
   "cell_type": "markdown",
   "metadata": {},
   "source": [
    "## Grafiek 4: gestapelde bar-chart (per jaar)\n",
    "\n",
    "Met behulp van deze gesorteerde versie kunnen we ook een andere gestapelde bar-chart tekenen, van de eerste grafiek. Gebruik hiervoor de opdrachten:\n",
    "\n",
    "```python\n",
    "pj1.sort_values(2015, ascending=False).T.plot.bar(stacked=True)\n",
    "plt.legend(bbox_to_anchor=(1, 1), loc=2)\n",
    "```"
   ]
  },
  {
   "cell_type": "code",
   "execution_count": null,
   "metadata": {
    "collapsed": true
   },
   "outputs": [],
   "source": []
  },
  {
   "cell_type": "markdown",
   "metadata": {},
   "source": [
    "## Grafiek 5: pie-chart\n",
    "\n",
    "Teken een pie-chart van een enkel jaar, bijvoorbeeld van 2015 (als in `pj1[2015]`). Probeer eerst de tabel te bekijken, en teken dan de pie-chart.\n",
    "\n",
    "Heeft het zin om de waarden van deze tabel (een Series) te sorteren, voordat je de grafiek tekent? Heeft `sort_values` in dit geval paramaters nodig?"
   ]
  },
  {
   "cell_type": "code",
   "execution_count": null,
   "metadata": {
    "collapsed": true
   },
   "outputs": [],
   "source": []
  },
  {
   "cell_type": "markdown",
   "metadata": {},
   "source": [
    "## Reorganiseren van kolommen\n",
    "\n",
    "* hernoemen van kolommen (`rename`)\n",
    "* veranderen van de volgorde van kolommen\n",
    "* weglaten van kolommen (`drop`)"
   ]
  },
  {
   "cell_type": "markdown",
   "metadata": {},
   "source": [
    "## Totalen\n",
    "\n",
    "* maak van de tabel een Series, met jaartal als index\n",
    "* en als waarden de som van de aantallen van de provincies.\n"
   ]
  },
  {
   "cell_type": "markdown",
   "metadata": {},
   "source": [
    "## Toevoegen van een kolom (totaal)\n",
    "\n",
    "We willen een kolom toevoegen aan de tabel (index=JAAR, columns=PROVINCIES), met het totaal van de provincie-kolommen.\n",
    "\n",
    "We maken hiervoor eerst een *kopie* van de betreffende tabel, om ervoor te zorgen dat we de oorspronkelijke tabel niet veranderen. (Zie opmerking over kopieën in pandas en Notebooks.)"
   ]
  },
  {
   "cell_type": "code",
   "execution_count": null,
   "metadata": {},
   "outputs": [],
   "source": [
    "jpx = jp.copy()\n",
    "jpx"
   ]
  },
  {
   "cell_type": "markdown",
   "metadata": {},
   "source": [
    "We hebben niet een manier voor de aggregatie van kolommen, maar wel voor rijen. We kunnen dat eenvoudig oplossen door de som van de getransponeerde tabel te nemen. Dit is een Series met dezelfde index als de tabel die we willen uitbreiden.\n",
    "\n",
    "> Eigenlijk krijgen we door deze sommatie weer een getransponeerde versie: de index bestaat uit de kolommen van de gesommeerde tabel.\n"
   ]
  },
  {
   "cell_type": "code",
   "execution_count": null,
   "metadata": {},
   "outputs": [],
   "source": [
    "jp.T.sum()"
   ]
  },
  {
   "cell_type": "markdown",
   "metadata": {},
   "source": [
    "We kunnen eenvoudig een kolom toevoegen (zoals gebruikelijk in Python) door een toekenning aan deze kolom. In het geval van een DataFrame moeten we er dan wel voor zorgen dat de index van deze kolom gelijk is aan de index van de tabel, anders krijg je verrassende resultaten. Maar in dit geval zijn we daarvan verzekerd.\n",
    "\n",
    "> Een alternatief is: `pjpx = pjp.assign(totaal=pjp.T.sum())`. In dit geval kun je eventueel de index van de toe te voegen waarde aanpassen."
   ]
  },
  {
   "cell_type": "code",
   "execution_count": null,
   "metadata": {},
   "outputs": [],
   "source": [
    "jpx[\"totaal\"] = jp.T.sum()\n",
    "jpx"
   ]
  },
  {
   "cell_type": "code",
   "execution_count": null,
   "metadata": {},
   "outputs": [],
   "source": [
    "jpx.totaal.plot.bar()"
   ]
  },
  {
   "cell_type": "code",
   "execution_count": null,
   "metadata": {
    "collapsed": true
   },
   "outputs": [],
   "source": [
    "jpy = jp.assign(totaal=jp.T.sum())\n",
    "jpy"
   ]
  },
  {
   "cell_type": "markdown",
   "metadata": {},
   "source": [
    "NB: we gebruiken in onze Notebooks steeds een verse variabele voor een nieuwe waarde. Op deze manier maakt het niet uit of we een bepaalde cel 1 keer of vaker uitvoeren. (\"idempotent\", als bij web-operaties zoals GET en PUT - maar niet POST)."
   ]
  },
  {
   "cell_type": "markdown",
   "metadata": {},
   "source": [
    "## Referenties\n",
    "\n",
    "* https://pandas.pydata.org/pandas-docs/stable/reshaping.html\n",
    "* http://pandas.pydata.org/pandas-docs/version/0.15.2/reshaping.html#reshaping-pivot"
   ]
  },
  {
   "cell_type": "code",
   "execution_count": null,
   "metadata": {
    "collapsed": true
   },
   "outputs": [],
   "source": []
  }
 ],
 "metadata": {
  "kernelspec": {
   "display_name": "Python [conda root]",
   "language": "python",
   "name": "conda-root-py"
  },
  "language_info": {
   "codemirror_mode": {
    "name": "ipython",
    "version": 3
   },
   "file_extension": ".py",
   "mimetype": "text/x-python",
   "name": "python",
   "nbconvert_exporter": "python",
   "pygments_lexer": "ipython3",
   "version": "3.5.2"
  }
 },
 "nbformat": 4,
 "nbformat_minor": 2
}
