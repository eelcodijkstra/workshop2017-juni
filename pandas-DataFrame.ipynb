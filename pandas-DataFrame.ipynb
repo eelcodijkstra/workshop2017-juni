{
 "cells": [
  {
   "cell_type": "markdown",
   "metadata": {},
   "source": [
    "# pandas DataFrame\n",
    "\n",
    "Een DataFrame is een universele tabel, met een groot aantal mogelijke operaties. We zullen in dit notebook kennismaken met enkele veel gebruikte operaties.\n",
    "\n",
    "Een DataFrame kun je beschouwen als een aantal \"parallelle\" Series: elke kolom heeft een naam, en de kolommen delen dezelfde index.\n",
    "\n"
   ]
  },
  {
   "cell_type": "code",
   "execution_count": null,
   "metadata": {
    "collapsed": true
   },
   "outputs": [],
   "source": [
    "import pandas as pd\n",
    "import numpy as np\n",
    "import matplotlib.pyplot as plt\n",
    "\n",
    "%matplotlib inline    \n",
    "## pd.options.display.mpl_style = 'default'"
   ]
  },
  {
   "cell_type": "code",
   "execution_count": null,
   "metadata": {},
   "outputs": [],
   "source": [
    "prov_jaar = pd.read_csv(\"prov-jaar.csv\", sep=\",\")\n",
    "prov_jaar.head(7)"
   ]
  },
  {
   "cell_type": "markdown",
   "metadata": {},
   "source": [
    "Vraag de index en de kolommen op met:\n",
    "\n",
    "* `prov_jaar.index`\n",
    "* `prov_jaar.columns`"
   ]
  },
  {
   "cell_type": "code",
   "execution_count": null,
   "metadata": {
    "collapsed": true
   },
   "outputs": [],
   "source": []
  },
  {
   "cell_type": "code",
   "execution_count": null,
   "metadata": {
    "collapsed": true
   },
   "outputs": [],
   "source": []
  },
  {
   "cell_type": "markdown",
   "metadata": {},
   "source": [
    "## Selectie en indicering\n",
    "\n",
    "* selecteren van een kolom: `prov_jaar[\"AANTAL\"]`\n",
    "* of: `prov_jaar.AANTAL`\n",
    "* selecteren van een rij (met een indexwaarde): `prov_jaar.loc[3]`\n",
    "* selecteren van een rij (met een rangnummer): `prov_jaar.iloc[5]`\n",
    "* selecteren van de eerste 5 rijen: `prov_jaar.iloc[:4]`"
   ]
  },
  {
   "cell_type": "code",
   "execution_count": null,
   "metadata": {
    "collapsed": true
   },
   "outputs": [],
   "source": []
  },
  {
   "cell_type": "markdown",
   "metadata": {},
   "source": [
    "Let goed op het verschil tussen het selecteren van een rij met een indexwaarde (label) - via `loc` en het selecteren met een rangnummer - via `iloc`. In dit geval is (toevallig) er geen verschil, omdat de index gelijk loopt aan de rangnummers.\n",
    "\n",
    "Je kunt het verschil zien zodra er sprake is van sorteren - met een andere rangschikking als resultaat. Vergelijk (en let op \"Name\" onderaan):\n",
    "\n",
    "* `prov_jaar.sort_values(\"JAAR\").loc[5]`\n",
    "* `prov_jaar.sort_values(\"JAAR\").iloc[5]`"
   ]
  },
  {
   "cell_type": "code",
   "execution_count": null,
   "metadata": {
    "collapsed": true
   },
   "outputs": [],
   "source": []
  },
  {
   "cell_type": "markdown",
   "metadata": {},
   "source": [
    "### Selecteren van rijen met een boolean conditie\n",
    "\n",
    "Dit werkt analoog aan het selecteren in een Series. Je kunt ook meerdere condities combineren. Je moet daarvoor andere operatoren gebruiken dan de `and` en `or` in Python. Bovendien moet je vaker haakjes gebruiken.\n",
    "\n",
    "* and: `&`\n",
    "* or: `|`\n",
    "\n",
    "> pandas heeft ook een `query`-functie die je gebruikt met een conditie.\n",
    "\n",
    "* `prov_jaar[prov_jaar.PROVINCIE == \"Limburg\"]`\n",
    "* `prov_jaar[prov_jaar.JAAR == 2011]`\n",
    "* `prov_jaar[(prov_jaar.JAAR >= 2013) & (prov_jaar.PROVINCIE >= \"Limburg\")]`\n",
    "* `prov_jaar.query('JAAR >= 2013 & PROVINCIE >= \"Limburg\"')`"
   ]
  },
  {
   "cell_type": "code",
   "execution_count": null,
   "metadata": {},
   "outputs": [],
   "source": []
  },
  {
   "cell_type": "code",
   "execution_count": null,
   "metadata": {
    "collapsed": true
   },
   "outputs": [],
   "source": []
  },
  {
   "cell_type": "markdown",
   "metadata": {},
   "source": [
    "## Reorganiseren van rijen en kolommen\n",
    "\n",
    "Je kunt één of meer kolommen selecteren\n",
    "\n",
    "* `prov_jaar[[\"PROVINCIE\", \"AANTAL\"]]`\n",
    "* `prov_jaar[[\"AANTAL\", \"PROVINCIE\"]]`\n",
    "    * de volgorde in de selectie-lijst bepaalt de volgorde in het resultaat\n",
    "* `prov_jaar.drop(\"JAAR\", 1)`\n",
    "    * de `1` geeft aan dat je een kolom selecteert; anders: rij"
   ]
  },
  {
   "cell_type": "code",
   "execution_count": null,
   "metadata": {
    "collapsed": true
   },
   "outputs": [],
   "source": []
  },
  {
   "cell_type": "markdown",
   "metadata": {},
   "source": [
    "## Samenvatten (aggregatie)\n",
    "\n",
    "Voorbeeld: Hoeveel leerlingen hebben de afgelopen jaren examen gedaan in de verschillende provincies?\n",
    "\n",
    "We beantwoorden eerst de eenvoudiger vraag: hoeveel leerlingen hebben de afgelopen jaren examen gedaan?\n",
    "\n",
    "* we kunnen een kolom samenvatten met behulp van functies als `sum`, `mean`, `count` en dergelijke;\n",
    "* `prov_jaar[\"AANTAL\"].sum()`"
   ]
  },
  {
   "cell_type": "code",
   "execution_count": null,
   "metadata": {},
   "outputs": [],
   "source": []
  },
  {
   "cell_type": "markdown",
   "metadata": {},
   "source": [
    "Maar we zijn vooral geïnteresseerd in het totaal per provincie. Daarvoor gebruiken we de functie `groupby` in combinatie met `sum`:\n",
    "* prov_jaar.groupby([\"PROVINCIE\"]).sum()"
   ]
  },
  {
   "cell_type": "code",
   "execution_count": null,
   "metadata": {},
   "outputs": [],
   "source": []
  },
  {
   "cell_type": "markdown",
   "metadata": {},
   "source": [
    "Merk hierbij op:\n",
    "\n",
    "* ook de jaartallen worden bij elkaar opgeteld; dat heeft natuurlijk geen betekenis\n",
    "* we kunnen de kolom AANTAL selecteren in het resultaat: `[\"AANTAL\"]`; de betekenisloze kolom JAAR verdwijnt dan;\n",
    "    * alternatief: `.drop(\"JAAR\", 1)`"
   ]
  },
  {
   "cell_type": "markdown",
   "metadata": {},
   "source": [
    "    \n",
    "### `*`Aggregatie-descriptor\n",
    "\n",
    "We kunnen het resultaat van zo'n samenvatting (aggregatie) preciezer uitdrukken met behulp van een *aggregate*-beschrijving.\n",
    "* je geeft daarin aan wat de kolomnaam van de samenvatting is, en welke (numpy) functie daarvoor gebruikt wordt.\n",
    "* zie: http://pandas.pydata.org/pandas-docs/stable/computation.html#applying-different-functions-to-dataframe-columns\n",
    "* of: http://www.shanelynn.ie/summarising-aggregation-and-grouping-data-in-python-pandas/\n",
    "\n",
    "```python\n",
    "agg_descr = {\"AANTAL\": {\"gemiddelde\": \"mean\", \"totaal\": np.sum}, \"JAAR\": {\"max\": \"max\", \"min\": \"min\"}}\n",
    "prov_jaar.groupby(\"PROVINCIE\").agg(agg_descr)\n",
    "```"
   ]
  },
  {
   "cell_type": "code",
   "execution_count": null,
   "metadata": {
    "collapsed": true
   },
   "outputs": [],
   "source": []
  },
  {
   "cell_type": "markdown",
   "metadata": {},
   "source": [
    "Vraag de kolommen op van dit resultaat; wat valt daarin op? Zie je dat ook in de afgedrukte vorm van de tabel? "
   ]
  },
  {
   "cell_type": "code",
   "execution_count": null,
   "metadata": {
    "collapsed": true
   },
   "outputs": [],
   "source": []
  },
  {
   "cell_type": "markdown",
   "metadata": {},
   "source": [
    "## Verband met database-queries\n",
    "\n",
    "We hebben met de bovenstaande mogelijkheden ongeveer dezelfde mogelijkheden als bij SQL-queries:\n",
    "\n",
    "* `SELECT`: beschijft het resultaat, hier door een selectie van de kolommen in de resultaat-dataframe\n",
    "* `WHERE`: de selectie-conditie, hier door een logische uitdrukking als index\n",
    "* `GROUP BY` - in combinatie met aggregatie: hier, `groupby(...).sum()` enz.\n",
    "\n",
    "Zie: https://pandas.pydata.org/pandas-docs/stable/comparison_with_sql.html"
   ]
  },
  {
   "cell_type": "markdown",
   "metadata": {},
   "source": [
    "## Uitgebreidere reorganisatie: pivot\n",
    "\n",
    "Er zijn nog meer mogelijkheden om een tabel te reorganiseren, bijvoorbeeld door rijen en kolommen om te wisselen (*transpose*), en door waarden uit een kolom als kolom of rij te gebruiken (*pivot*).\n",
    "\n",
    "Deze mogelijkheden behandelen we in een apart notebook.\n"
   ]
  },
  {
   "cell_type": "code",
   "execution_count": null,
   "metadata": {
    "collapsed": true
   },
   "outputs": [],
   "source": []
  }
 ],
 "metadata": {
  "kernelspec": {
   "display_name": "Python [default]",
   "language": "python",
   "name": "python3"
  },
  "language_info": {
   "codemirror_mode": {
    "name": "ipython",
    "version": 3
   },
   "file_extension": ".py",
   "mimetype": "text/x-python",
   "name": "python",
   "nbconvert_exporter": "python",
   "pygments_lexer": "ipython3",
   "version": "3.5.2"
  }
 },
 "nbformat": 4,
 "nbformat_minor": 2
}
