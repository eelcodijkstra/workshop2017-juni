{
 "cells": [
  {
   "cell_type": "markdown",
   "metadata": {},
   "source": [
    "# Visualisatie 2: DataFrames\n",
    "\n",
    "Naast de Series: een enkelvoudige reeks data, kent pandas ook het DataFrame. Dit is een tabel, meestal in de vorm van een index met een aantal benoemde kolommen.\n",
    "\n",
    "In dit notebook maken we kennis met DataFrames. We lezen de data in vanuit een csv-bestand. Deze data kunnen we op verschillende manieren in grafieken weergeven. In een volgende notebook gaan we verder in op de mogelijkheden om DataFrames te manipuleren.\n",
    "\n",
    "We beginnen weer met het import-blok:"
   ]
  },
  {
   "cell_type": "code",
   "execution_count": null,
   "metadata": {
    "collapsed": true
   },
   "outputs": [],
   "source": [
    "import pandas as pd\n",
    "import numpy as np\n",
    "import matplotlib.pyplot as plt\n",
    "\n",
    "%matplotlib inline    \n",
    "## pd.options.display.mpl_style = 'default'"
   ]
  },
  {
   "cell_type": "markdown",
   "metadata": {},
   "source": [
    "## Plot 1: bar chart\n",
    "\n",
    "We gebruiken een vergelijkbaar voorbeeld als voor de Series: de aantallen informatica-examens in de verschillende provincies. In dit geval hebben we per jaar een kolom, met de aantallen examens in dat jaar als waarden.\n"
   ]
  },
  {
   "cell_type": "code",
   "execution_count": null,
   "metadata": {},
   "outputs": [],
   "source": [
    "prov_jaren = pd.DataFrame.from_csv(\"prov-jaren.csv\", header=0)\n",
    "prov_jaren.head(7)"
   ]
  },
  {
   "cell_type": "markdown",
   "metadata": {},
   "source": [
    "Je kunt van dit dataframe de index en de kolommen opvragen, met:\n",
    "\n",
    "* `prov_jaren.index`\n",
    "* `prov_jaren.columns`"
   ]
  },
  {
   "cell_type": "code",
   "execution_count": null,
   "metadata": {
    "collapsed": true
   },
   "outputs": [],
   "source": []
  },
  {
   "cell_type": "markdown",
   "metadata": {},
   "source": [
    "Je kunt een kolom selecteren: dat geeft weer een Series.\n",
    "\n",
    "```\n",
    "prov_jaren['2012']\n",
    "```"
   ]
  },
  {
   "cell_type": "code",
   "execution_count": null,
   "metadata": {
    "collapsed": true
   },
   "outputs": [],
   "source": []
  },
  {
   "cell_type": "markdown",
   "metadata": {},
   "source": [
    "**Opdracht**: selecteer het aantal examens in 2013 in Limburg"
   ]
  },
  {
   "cell_type": "code",
   "execution_count": null,
   "metadata": {
    "collapsed": true
   },
   "outputs": [],
   "source": []
  },
  {
   "cell_type": "markdown",
   "metadata": {},
   "source": [
    "Vanuit deze tabel kunnen we direct een bar-chart tekenen, met parallelle \"bars\" voor de opeenvolgende jaren.\n",
    "\n",
    "* `prov_jaren.plot.bar()`"
   ]
  },
  {
   "cell_type": "code",
   "execution_count": null,
   "metadata": {},
   "outputs": [],
   "source": []
  },
  {
   "cell_type": "markdown",
   "metadata": {},
   "source": [
    "## Plot: lijngrafiek\n",
    "\n",
    "We willen als volgende voorbeeld een lijngrafiek tekenen, met als index de jaren, en als lijnen de aantallen per provincie."
   ]
  },
  {
   "cell_type": "markdown",
   "metadata": {},
   "source": [
    "### Transpose\n",
    "\n",
    "We moeten hiervoor de rijen en kolommen omwisselen. Dit gaat erg eenvoudig met *transpose* (`T`). Analyseer eerst de structuur van de tabel `prov_jaren.T`: hoe ziet die tabel eruit; wat is de index, wat zijn de kolommen?\n",
    "\n",
    "* `prov_jaren.T`\n",
    "* `prov_jaren.T.index`\n",
    "* `prov_jaren.T.columns`"
   ]
  },
  {
   "cell_type": "code",
   "execution_count": null,
   "metadata": {
    "collapsed": true
   },
   "outputs": [],
   "source": []
  },
  {
   "cell_type": "markdown",
   "metadata": {},
   "source": [
    "Vervolgens kun je hiervan de grafiek tekenen:\n",
    "\n",
    "* `prov_jaren.T.plot.line()`"
   ]
  },
  {
   "cell_type": "code",
   "execution_count": null,
   "metadata": {},
   "outputs": [],
   "source": []
  },
  {
   "cell_type": "markdown",
   "metadata": {},
   "source": [
    "De legenda staat nu waarschijnlijk over de grafiek. Deze kun je verplaatsen met de *matplotlib* `legend`-opdracht: \n",
    "\n",
    "```python\n",
    "prov_jaren.T.plot.line()\n",
    "plt.legend(bbox_to_anchor=(1, 1), loc=2)\n",
    "```"
   ]
  },
  {
   "cell_type": "code",
   "execution_count": null,
   "metadata": {
    "collapsed": true
   },
   "outputs": [],
   "source": []
  }
 ],
 "metadata": {
  "kernelspec": {
   "display_name": "Python [conda root]",
   "language": "python",
   "name": "conda-root-py"
  },
  "language_info": {
   "codemirror_mode": {
    "name": "ipython",
    "version": 3
   },
   "file_extension": ".py",
   "mimetype": "text/x-python",
   "name": "python",
   "nbconvert_exporter": "python",
   "pygments_lexer": "ipython3",
   "version": "3.5.2"
  }
 },
 "nbformat": 4,
 "nbformat_minor": 2
}
